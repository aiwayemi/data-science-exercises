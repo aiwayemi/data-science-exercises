{
 "cells": [
  {
   "cell_type": "markdown",
   "id": "92bf404e",
   "metadata": {},
   "source": [
    "# This code computes the Factorial of any given integer number\n",
    "- This is a python example to test the Jupyter notebook\n",
    "- Jupyter notebook is an IDE by Anaconda that provides an interactive programming using the browser"
   ]
  },
  {
   "cell_type": "code",
   "execution_count": 3,
   "id": "25d4eceb",
   "metadata": {},
   "outputs": [],
   "source": [
    "def factorial(n):\n",
    "    if n == 0:\n",
    "        return 1\n",
    "    else:\n",
    "        return n*factorial(n-1)"
   ]
  },
  {
   "cell_type": "code",
   "execution_count": 4,
   "id": "8bce6134",
   "metadata": {},
   "outputs": [
    {
     "data": {
      "text/plain": [
       "120"
      ]
     },
     "execution_count": 4,
     "metadata": {},
     "output_type": "execute_result"
    }
   ],
   "source": [
    "factorial(5)"
   ]
  },
  {
   "cell_type": "markdown",
   "id": "7919ec17",
   "metadata": {},
   "source": [
    "# The factorial of a number n is denoted as N!\n",
    "- N! = N * (N-1)* (N-2) * ..... * 1\n",
    "- The recursive method: When the factorial function is called with an argument n, it checks if n is equal to 0. If it is, the base case is triggered, and the function returns 1 (the factorial of 0 is 1). If n is not 0, the else block is executed, and it returns the product of n and the result of the factorial function called with the argument (n-1). This recursive call continues until the base case is reached.\n",
    "\n",
    "- In essence, the function breaks down the problem of calculating the factorial of a number into smaller sub-problems by calling itself with a smaller argument, and it keeps doing so until it reaches the base case, providing a way to compute the factorial of the original number."
   ]
  },
  {
   "cell_type": "code",
   "execution_count": null,
   "id": "01699274",
   "metadata": {},
   "outputs": [],
   "source": []
  }
 ],
 "metadata": {
  "kernelspec": {
   "display_name": "Python 3 (ipykernel)",
   "language": "python",
   "name": "python3"
  },
  "language_info": {
   "codemirror_mode": {
    "name": "ipython",
    "version": 3
   },
   "file_extension": ".py",
   "mimetype": "text/x-python",
   "name": "python",
   "nbconvert_exporter": "python",
   "pygments_lexer": "ipython3",
   "version": "3.11.4"
  }
 },
 "nbformat": 4,
 "nbformat_minor": 5
}

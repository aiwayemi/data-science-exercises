{
 "cells": [
  {
   "cell_type": "markdown",
   "id": "64302ab2",
   "metadata": {},
   "source": [
    "## Class Exercise 5\n"
   ]
  },
  {
   "cell_type": "markdown",
   "id": "05d16b44",
   "metadata": {},
   "source": [
    "### 1.\tImport NumPy in Jupyter notebook.\n",
    "- a.\tGenerate a 1D NumPy array of 10 random integers between 1 and 100.\n",
    "\n"
   ]
  },
  {
   "cell_type": "code",
   "execution_count": 1,
   "id": "41e654a2",
   "metadata": {},
   "outputs": [
    {
     "name": "stdout",
     "output_type": "stream",
     "text": [
      "[61 42 61 87 88 98 53 92 55 88]\n"
     ]
    }
   ],
   "source": [
    "import numpy as np\n",
    "\n",
    "# Generate a 1D NumPy array of 10 random integers between 1 and 100\n",
    "random_array = np.random.randint(1, 101, size=10)\n",
    "\n",
    "print(random_array)\n"
   ]
  },
  {
   "cell_type": "markdown",
   "id": "0bd7dc88",
   "metadata": {},
   "source": [
    "- b.\tAccess and print the first and last elements of the array."
   ]
  },
  {
   "cell_type": "code",
   "execution_count": 3,
   "id": "82414eee",
   "metadata": {},
   "outputs": [
    {
     "name": "stdout",
     "output_type": "stream",
     "text": [
      "First element: 45\n",
      "Last element: 52\n"
     ]
    }
   ],
   "source": [
    "import numpy as np\n",
    "\n",
    "# Generate a 1D NumPy array of 10 random integers between 1 and 100\n",
    "random_array = np.random.randint(1, 101, size=10)\n",
    "\n",
    "# Access and print the first element of the array\n",
    "print(\"First element:\", random_array[0])\n",
    "\n",
    "# Access and print the last element of the array\n",
    "print(\"Last element:\", random_array[-1])\n"
   ]
  },
  {
   "cell_type": "markdown",
   "id": "26fbef60",
   "metadata": {},
   "source": [
    "- c.\tGenerate a 2D NumPy array of shape (3, 3) with random floating-point numbers.\n"
   ]
  },
  {
   "cell_type": "code",
   "execution_count": 4,
   "id": "894a6027",
   "metadata": {},
   "outputs": [
    {
     "name": "stdout",
     "output_type": "stream",
     "text": [
      "[[0.84674919 0.85484451 0.36387604]\n",
      " [0.59827681 0.12430476 0.1350183 ]\n",
      " [0.82167308 0.43609183 0.01486285]]\n"
     ]
    }
   ],
   "source": [
    "import numpy as np\n",
    "\n",
    "# Generate a 2D NumPy array of shape (3, 3) with random floating-point numbers\n",
    "random_float_array = np.random.rand(3, 3)\n",
    "\n",
    "print(random_float_array)\n"
   ]
  },
  {
   "cell_type": "markdown",
   "id": "957fb2d6",
   "metadata": {},
   "source": [
    "### 2.\tUse the 2D array generated in Exercise 1 c. Practice slicing arrays to access sub-arrays."
   ]
  },
  {
   "cell_type": "markdown",
   "id": "20886db7",
   "metadata": {},
   "source": [
    "- a.\tPrint the first row of the 2D array.\n"
   ]
  },
  {
   "cell_type": "code",
   "execution_count": 5,
   "id": "669ea4d6",
   "metadata": {},
   "outputs": [
    {
     "name": "stdout",
     "output_type": "stream",
     "text": [
      "First row of the 2D array:\n",
      "[0.84674919 0.85484451 0.36387604]\n"
     ]
    }
   ],
   "source": [
    "import numpy as np\n",
    "\n",
    "# The variable \"random_float_array\" is the 2D array generated in Exercise 1\n",
    "\n",
    "# Print the first row of the 2D array\n",
    "print(\"First row of the 2D array:\")\n",
    "print(random_float_array[0])\n"
   ]
  },
  {
   "cell_type": "markdown",
   "id": "167f6fac",
   "metadata": {},
   "source": [
    "- b.\tPrint the last column of the 2D array."
   ]
  },
  {
   "cell_type": "code",
   "execution_count": 10,
   "id": "f3485bee",
   "metadata": {},
   "outputs": [
    {
     "name": "stdout",
     "output_type": "stream",
     "text": [
      "The last column of the 2D array:\n",
      "[0.36387604 0.1350183  0.01486285]\n"
     ]
    }
   ],
   "source": [
    "# Print the last column of the 2D array\n",
    "print(\"The last column of the 2D array:\")\n",
    "print(random_float_array[:,-1])"
   ]
  },
  {
   "cell_type": "markdown",
   "id": "c55e9525",
   "metadata": {},
   "source": [
    "- c.\tCreate and print a sub-array consisting of the first two rows and first two columns."
   ]
  },
  {
   "cell_type": "code",
   "execution_count": 11,
   "id": "b3a2976c",
   "metadata": {},
   "outputs": [
    {
     "name": "stdout",
     "output_type": "stream",
     "text": [
      "Sub-array consisting of the first two rows and first two columns:\n",
      "[[0.84674919 0.85484451]\n",
      " [0.59827681 0.12430476]]\n"
     ]
    }
   ],
   "source": [
    "# Create and print the sub-array consisting of the first two rows and first two columns\n",
    "sub_array = random_float_array[:2, :2]\n",
    "\n",
    "print(\"Sub-array consisting of the first two rows and first two columns:\")\n",
    "print(sub_array)"
   ]
  },
  {
   "cell_type": "markdown",
   "id": "69dff539",
   "metadata": {},
   "source": [
    "## 3.\tGenerate two 1D NumPy arrays of 5 random integers each. "
   ]
  },
  {
   "cell_type": "markdown",
   "id": "afc2d046",
   "metadata": {},
   "source": [
    "- a.\tAdd the two arrays and print the result."
   ]
  },
  {
   "cell_type": "code",
   "execution_count": 12,
   "id": "a6498e6c",
   "metadata": {},
   "outputs": [
    {
     "name": "stdout",
     "output_type": "stream",
     "text": [
      "Array 1: [67 89 28 50 45]\n",
      "Array 2: [96 51 28 49 95]\n",
      "Addition Result: [163 140  56  99 140]\n"
     ]
    }
   ],
   "source": [
    "# Generate two 1D NumPy arrays of 5 random integers each\n",
    "array1 = np.random.randint(1, 100, size=5)\n",
    "array2 = np.random.randint(1, 100, size=5)\n",
    "\n",
    "print(\"Array 1:\", array1)\n",
    "print(\"Array 2:\", array2)\n",
    "\n",
    "# a. Add the two arrays and print the result\n",
    "result_addition = array1 + array2\n",
    "print(\"Addition Result:\", result_addition)"
   ]
  },
  {
   "cell_type": "markdown",
   "id": "699409b7",
   "metadata": {},
   "source": [
    "- b. Multiply the two arrays (element-wise) and print the result"
   ]
  },
  {
   "cell_type": "code",
   "execution_count": 13,
   "id": "49096ae5",
   "metadata": {},
   "outputs": [
    {
     "name": "stdout",
     "output_type": "stream",
     "text": [
      "Multiplication Result: [6432 4539  784 2450 4275]\n"
     ]
    }
   ],
   "source": [
    "# Multiply the two arrays (element-wise) and print the result\n",
    "result_multiplication = array1 * array2\n",
    "print(\"Multiplication Result:\", result_multiplication)\n"
   ]
  },
  {
   "cell_type": "markdown",
   "id": "3591e342",
   "metadata": {},
   "source": [
    "- c. Calculate the square of every element in the first array and print it"
   ]
  },
  {
   "cell_type": "code",
   "execution_count": 14,
   "id": "e9d370ed",
   "metadata": {},
   "outputs": [
    {
     "name": "stdout",
     "output_type": "stream",
     "text": [
      "Square of Array 1: [4489 7921  784 2500 2025]\n"
     ]
    }
   ],
   "source": [
    "# Calculate the square of every element in the first array and print it\n",
    "result_square = array1 ** 2\n",
    "print(\"Square of Array 1:\", result_square)"
   ]
  },
  {
   "cell_type": "markdown",
   "id": "9ceed701",
   "metadata": {},
   "source": [
    "## 4.\tGenerate two 2D NumPy arrays, A of shape (2, 3) and B of shape (3, 2), with random integers."
   ]
  },
  {
   "cell_type": "markdown",
   "id": "49324e4a",
   "metadata": {},
   "source": [
    "- a.\tPerform matrix multiplication between A and B (using np.dot() or the @ operator) and print the result."
   ]
  },
  {
   "cell_type": "code",
   "execution_count": 15,
   "id": "bed52826",
   "metadata": {},
   "outputs": [
    {
     "name": "stdout",
     "output_type": "stream",
     "text": [
      "Matrix A:\n",
      "[[1 2 1]\n",
      " [4 3 7]]\n",
      "\n",
      "Matrix B:\n",
      "[[3 5]\n",
      " [2 3]\n",
      " [7 9]]\n",
      "\n",
      "Result of matrix multiplication between A and B:\n",
      "[[14 20]\n",
      " [67 92]]\n"
     ]
    }
   ],
   "source": [
    "# Generate two 2D NumPy arrays A of shape (2, 3) and B of shape (3, 2) with random integers\n",
    "A = np.random.randint(1, 10, size=(2, 3))\n",
    "B = np.random.randint(1, 10, size=(3, 2))\n",
    "\n",
    "print(\"Matrix A:\")\n",
    "print(A)\n",
    "print(\"\\nMatrix B:\")\n",
    "print(B)\n",
    "\n",
    "# a. Perform matrix multiplication between A and B and print the result\n",
    "result_matrix_multiplication = np.dot(A, B)\n",
    "# Or One can also use the @ operator for matrix multiplication\n",
    "# result_matrix_multiplication = A @ B\n",
    "print(\"\\nResult of matrix multiplication between A and B:\")\n",
    "print(result_matrix_multiplication)\n"
   ]
  },
  {
   "cell_type": "markdown",
   "id": "aac0371a",
   "metadata": {},
   "source": [
    "- b.\tCan A and B perform element-wise multiplication using *, why?"
   ]
  },
  {
   "cell_type": "markdown",
   "id": "cf42aff0",
   "metadata": {},
   "source": [
    "###### No, A and B cannot perform element-wise multiplication using * because they do not have compatible shapes.\n",
    "In order to perform element-wise multiplication, the arrays must have the same shape or one of them must be broadcastable to the other.\n",
    "A is of shape (2, 3) and B is of shape (3, 2), so their shapes are not compatible for element-wise multiplication.\n",
    "Element-wise multiplication would require both arrays to have the same shape or one of them to be broadcastable to the other."
   ]
  }
 ],
 "metadata": {
  "kernelspec": {
   "display_name": "Python 3 (ipykernel)",
   "language": "python",
   "name": "python3"
  },
  "language_info": {
   "codemirror_mode": {
    "name": "ipython",
    "version": 3
   },
   "file_extension": ".py",
   "mimetype": "text/x-python",
   "name": "python",
   "nbconvert_exporter": "python",
   "pygments_lexer": "ipython3",
   "version": "3.11.4"
  }
 },
 "nbformat": 4,
 "nbformat_minor": 5
}

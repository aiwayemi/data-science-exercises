{
 "cells": [
  {
   "cell_type": "markdown",
   "id": "eb07c94e",
   "metadata": {},
   "source": [
    "### Exercise:\tPredicting House Prices\n",
    "Objective: Build a linear regression model to predict house prices on various features and evaluate its performance using 5-fold cross-validation.\n",
    "1.\tDataset Preparation: Use the ‘California housing’ dataset available in scikit-learn.\n",
    "2.\tExploratory Data Analysis (EDA), check for null values, and visualize some features.\n",
    "3.\tTrain a Linear Regression Model\n",
    "4.\tEvaluate the model using 5-fold cross-validation.\n",
    "5.\tFurther explore: Can you try other regression models to improve the performance?\n"
   ]
  },
  {
   "cell_type": "code",
   "execution_count": 2,
   "id": "128c9ffe",
   "metadata": {},
   "outputs": [
    {
     "name": "stdout",
     "output_type": "stream",
     "text": [
      "<class 'pandas.core.frame.DataFrame'>\n",
      "RangeIndex: 20640 entries, 0 to 20639\n",
      "Data columns (total 8 columns):\n",
      " #   Column      Non-Null Count  Dtype  \n",
      "---  ------      --------------  -----  \n",
      " 0   MedInc      20640 non-null  float64\n",
      " 1   HouseAge    20640 non-null  float64\n",
      " 2   AveRooms    20640 non-null  float64\n",
      " 3   AveBedrms   20640 non-null  float64\n",
      " 4   Population  20640 non-null  float64\n",
      " 5   AveOccup    20640 non-null  float64\n",
      " 6   Latitude    20640 non-null  float64\n",
      " 7   Longitude   20640 non-null  float64\n",
      "dtypes: float64(8)\n",
      "memory usage: 1.3 MB\n",
      "None\n",
      "             MedInc      HouseAge      AveRooms     AveBedrms    Population  \\\n",
      "count  20640.000000  20640.000000  20640.000000  20640.000000  20640.000000   \n",
      "mean       3.870671     28.639486      5.429000      1.096675   1425.476744   \n",
      "std        1.899822     12.585558      2.474173      0.473911   1132.462122   \n",
      "min        0.499900      1.000000      0.846154      0.333333      3.000000   \n",
      "25%        2.563400     18.000000      4.440716      1.006079    787.000000   \n",
      "50%        3.534800     29.000000      5.229129      1.048780   1166.000000   \n",
      "75%        4.743250     37.000000      6.052381      1.099526   1725.000000   \n",
      "max       15.000100     52.000000    141.909091     34.066667  35682.000000   \n",
      "\n",
      "           AveOccup      Latitude     Longitude  \n",
      "count  20640.000000  20640.000000  20640.000000  \n",
      "mean       3.070655     35.631861   -119.569704  \n",
      "std       10.386050      2.135952      2.003532  \n",
      "min        0.692308     32.540000   -124.350000  \n",
      "25%        2.429741     33.930000   -121.800000  \n",
      "50%        2.818116     34.260000   -118.490000  \n",
      "75%        3.282261     37.710000   -118.010000  \n",
      "max     1243.333333     41.950000   -114.310000  \n",
      "Cross-Validation RMSE Scores: [0.72115555 0.70872616 0.7214877  0.71266905 0.73859747]\n",
      "Mean RMSE: 0.7205271873526421\n",
      "Standard Deviation of RMSE: 0.010284620997322644\n"
     ]
    }
   ],
   "source": [
    "import numpy as np\n",
    "import pandas as pd\n",
    "import matplotlib.pyplot as plt\n",
    "from sklearn.datasets import fetch_california_housing\n",
    "from sklearn.model_selection import cross_val_score, train_test_split\n",
    "from sklearn.linear_model import LinearRegression\n",
    "from sklearn.preprocessing import StandardScaler\n",
    "from sklearn.pipeline import make_pipeline\n",
    "\n",
    "# Step 1: Dataset Preparation\n",
    "california_housing = fetch_california_housing()\n",
    "data = pd.DataFrame(california_housing.data, columns=california_housing.feature_names)\n",
    "target = california_housing.target\n",
    "\n",
    "# Step 2: Exploratory Data Analysis (EDA)\n",
    "print(data.info())  # Check for null values\n",
    "print(data.describe())  # Summary statistics\n",
    "\n",
    "# Step 3: Train a Linear Regression Model\n",
    "X_train, X_test, y_train, y_test = train_test_split(data, target, test_size=0.2, random_state=42)\n",
    "linear_reg_model = make_pipeline(StandardScaler(), LinearRegression())\n",
    "linear_reg_model.fit(X_train, y_train)\n",
    "\n",
    "# Step 4: Evaluate the model using 5-fold cross-validation\n",
    "cv_scores = cross_val_score(linear_reg_model, X_train, y_train, cv=5, scoring='neg_mean_squared_error')\n",
    "rmse_scores = np.sqrt(-cv_scores)\n",
    "\n",
    "print(\"Cross-Validation RMSE Scores:\", rmse_scores)\n",
    "print(\"Mean RMSE:\", np.mean(rmse_scores))\n",
    "print(\"Standard Deviation of RMSE:\", np.std(rmse_scores))\n"
   ]
  },
  {
   "cell_type": "code",
   "execution_count": 2,
   "id": "f7bcb09f",
   "metadata": {},
   "outputs": [
    {
     "name": "stdout",
     "output_type": "stream",
     "text": [
      "Model: Linear Regression\n",
      "Cross-Validation RMSE Scores: [0.72115555 0.70872616 0.7214877  0.71266905 0.73859747]\n",
      "Mean RMSE: 0.7205271873526421\n",
      "-----------------------------------\n",
      "Model: Ridge Regression\n",
      "Cross-Validation RMSE Scores: [0.72116065 0.70872775 0.72149607 0.71266899 0.73858449]\n",
      "Mean RMSE: 0.7205275913581648\n",
      "-----------------------------------\n",
      "Model: Lasso Regression\n",
      "Cross-Validation RMSE Scores: [1.17026369 1.13925369 1.16043756 1.142854   1.16811888]\n",
      "Mean RMSE: 1.1561855660646667\n",
      "-----------------------------------\n",
      "Model: Random Forest Regression\n",
      "Cross-Validation RMSE Scores: [0.51484897 0.51764831 0.50417031 0.50431305 0.51506059]\n",
      "Mean RMSE: 0.5112082470413293\n",
      "-----------------------------------\n"
     ]
    }
   ],
   "source": [
    "from sklearn.linear_model import Ridge, Lasso\n",
    "from sklearn.ensemble import RandomForestRegressor\n",
    "\n",
    "# Models to try\n",
    "models = {\n",
    "    \"Linear Regression\": LinearRegression(),\n",
    "    \"Ridge Regression\": Ridge(),\n",
    "    \"Lasso Regression\": Lasso(),\n",
    "    \"Random Forest Regression\": RandomForestRegressor()\n",
    "}\n",
    "\n",
    "# Evaluate each model using 5-fold cross-validation\n",
    "for name, model in models.items():\n",
    "    pipeline = make_pipeline(StandardScaler(), model)\n",
    "    scores = cross_val_score(pipeline, X_train, y_train, cv=5, scoring='neg_mean_squared_error')\n",
    "    rmse_scores = np.sqrt(-scores)\n",
    "    print(f\"Model: {name}\")\n",
    "    print(\"Cross-Validation RMSE Scores:\", rmse_scores)\n",
    "    print(\"Mean RMSE:\", np.mean(rmse_scores))\n",
    "    print(\"-----------------------------------\")\n"
   ]
  },
  {
   "cell_type": "code",
   "execution_count": null,
   "id": "d614dfb8",
   "metadata": {},
   "outputs": [],
   "source": []
  }
 ],
 "metadata": {
  "kernelspec": {
   "display_name": "Python 3 (ipykernel)",
   "language": "python",
   "name": "python3"
  },
  "language_info": {
   "codemirror_mode": {
    "name": "ipython",
    "version": 3
   },
   "file_extension": ".py",
   "mimetype": "text/x-python",
   "name": "python",
   "nbconvert_exporter": "python",
   "pygments_lexer": "ipython3",
   "version": "3.11.4"
  }
 },
 "nbformat": 4,
 "nbformat_minor": 5
}

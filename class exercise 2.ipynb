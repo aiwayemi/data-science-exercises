{
 "cells": [
  {
   "cell_type": "code",
   "execution_count": 1,
   "id": "696c681c",
   "metadata": {},
   "outputs": [
    {
     "name": "stdout",
     "output_type": "stream",
     "text": [
      "Overwriting pets.py\n"
     ]
    }
   ],
   "source": [
    "%%file pets.py\n",
    "\n",
    "class Pet:\n",
    "    def __init__(self, name, species):\n",
    "        self.name = name\n",
    "        self.species = species\n",
    "        \n",
    "    def display(self):\n",
    "        print(f\"{self.name} is a {self.species}\")\n",
    "\n"
   ]
  },
  {
   "cell_type": "code",
   "execution_count": 2,
   "id": "7bd19c68",
   "metadata": {},
   "outputs": [],
   "source": [
    "import pets "
   ]
  },
  {
   "cell_type": "code",
   "execution_count": 3,
   "id": "9f593b88",
   "metadata": {},
   "outputs": [
    {
     "name": "stdout",
     "output_type": "stream",
     "text": [
      "Fluffy is a Cat\n"
     ]
    }
   ],
   "source": [
    "#create a pet instance\n",
    "fluffy = pets.Pet(\"Fluffy\", \"Cat\")   # be attentaion to the file name and class name\n",
    "\n",
    "#Display pet details\n",
    "fluffy.display()"
   ]
  },
  {
   "cell_type": "code",
   "execution_count": 9,
   "id": "bc6bb749",
   "metadata": {},
   "outputs": [
    {
     "data": {
      "text/plain": [
       "<module 'pets' from 'C:\\\\Users\\\\iwaye\\\\Desktop\\\\CSC 705\\\\class exercises\\\\pets.py'>"
      ]
     },
     "execution_count": 9,
     "metadata": {},
     "output_type": "execute_result"
    }
   ],
   "source": [
    "#This section performs the reload\n",
    "import importlib\n",
    "importlib.reload(pets)"
   ]
  },
  {
   "cell_type": "code",
   "execution_count": 10,
   "id": "68f8818e",
   "metadata": {},
   "outputs": [
    {
     "name": "stdout",
     "output_type": "stream",
     "text": [
      "Fluffy is a Cat and Fluffy is 5 years old\n"
     ]
    }
   ],
   "source": [
    "#create a pet instance\n",
    "fluffy = pets.Pet(\"Fluffy\", \"Cat\", 5)   \n",
    "\n",
    "#Display pet details\n",
    "fluffy.display()"
   ]
  },
  {
   "cell_type": "code",
   "execution_count": null,
   "id": "23ec8f9d",
   "metadata": {},
   "outputs": [],
   "source": []
  }
 ],
 "metadata": {
  "kernelspec": {
   "display_name": "Python 3 (ipykernel)",
   "language": "python",
   "name": "python3"
  },
  "language_info": {
   "codemirror_mode": {
    "name": "ipython",
    "version": 3
   },
   "file_extension": ".py",
   "mimetype": "text/x-python",
   "name": "python",
   "nbconvert_exporter": "python",
   "pygments_lexer": "ipython3",
   "version": "3.11.4"
  }
 },
 "nbformat": 4,
 "nbformat_minor": 5
}

{
 "cells": [
  {
   "cell_type": "code",
   "execution_count": 1,
   "id": "e719b23a",
   "metadata": {},
   "outputs": [],
   "source": [
    "import pandas as pd\n",
    "import seaborn as sns\n",
    "iris = sns.load_dataset('iris')\n"
   ]
  },
  {
   "cell_type": "markdown",
   "id": "515df303",
   "metadata": {},
   "source": [
    "### 1.\tBasic Exploration:\n",
    "Display the first 5 rows of the dataset.\n",
    "Display the summary statistics of the dataset using describe().\n"
   ]
  },
  {
   "cell_type": "code",
   "execution_count": 4,
   "id": "b74e8cb0",
   "metadata": {},
   "outputs": [
    {
     "data": {
      "text/html": [
       "<div>\n",
       "<style scoped>\n",
       "    .dataframe tbody tr th:only-of-type {\n",
       "        vertical-align: middle;\n",
       "    }\n",
       "\n",
       "    .dataframe tbody tr th {\n",
       "        vertical-align: top;\n",
       "    }\n",
       "\n",
       "    .dataframe thead th {\n",
       "        text-align: right;\n",
       "    }\n",
       "</style>\n",
       "<table border=\"1\" class=\"dataframe\">\n",
       "  <thead>\n",
       "    <tr style=\"text-align: right;\">\n",
       "      <th></th>\n",
       "      <th>sepal_length</th>\n",
       "      <th>sepal_width</th>\n",
       "      <th>petal_length</th>\n",
       "      <th>petal_width</th>\n",
       "      <th>species</th>\n",
       "    </tr>\n",
       "  </thead>\n",
       "  <tbody>\n",
       "    <tr>\n",
       "      <th>0</th>\n",
       "      <td>5.1</td>\n",
       "      <td>3.5</td>\n",
       "      <td>1.4</td>\n",
       "      <td>0.2</td>\n",
       "      <td>setosa</td>\n",
       "    </tr>\n",
       "    <tr>\n",
       "      <th>1</th>\n",
       "      <td>4.9</td>\n",
       "      <td>3.0</td>\n",
       "      <td>1.4</td>\n",
       "      <td>0.2</td>\n",
       "      <td>setosa</td>\n",
       "    </tr>\n",
       "    <tr>\n",
       "      <th>2</th>\n",
       "      <td>4.7</td>\n",
       "      <td>3.2</td>\n",
       "      <td>1.3</td>\n",
       "      <td>0.2</td>\n",
       "      <td>setosa</td>\n",
       "    </tr>\n",
       "    <tr>\n",
       "      <th>3</th>\n",
       "      <td>4.6</td>\n",
       "      <td>3.1</td>\n",
       "      <td>1.5</td>\n",
       "      <td>0.2</td>\n",
       "      <td>setosa</td>\n",
       "    </tr>\n",
       "    <tr>\n",
       "      <th>4</th>\n",
       "      <td>5.0</td>\n",
       "      <td>3.6</td>\n",
       "      <td>1.4</td>\n",
       "      <td>0.2</td>\n",
       "      <td>setosa</td>\n",
       "    </tr>\n",
       "  </tbody>\n",
       "</table>\n",
       "</div>"
      ],
      "text/plain": [
       "   sepal_length  sepal_width  petal_length  petal_width species\n",
       "0           5.1          3.5           1.4          0.2  setosa\n",
       "1           4.9          3.0           1.4          0.2  setosa\n",
       "2           4.7          3.2           1.3          0.2  setosa\n",
       "3           4.6          3.1           1.5          0.2  setosa\n",
       "4           5.0          3.6           1.4          0.2  setosa"
      ]
     },
     "execution_count": 4,
     "metadata": {},
     "output_type": "execute_result"
    }
   ],
   "source": [
    "iris.head()"
   ]
  },
  {
   "cell_type": "code",
   "execution_count": 7,
   "id": "59aa20dd",
   "metadata": {},
   "outputs": [
    {
     "data": {
      "text/html": [
       "<div>\n",
       "<style scoped>\n",
       "    .dataframe tbody tr th:only-of-type {\n",
       "        vertical-align: middle;\n",
       "    }\n",
       "\n",
       "    .dataframe tbody tr th {\n",
       "        vertical-align: top;\n",
       "    }\n",
       "\n",
       "    .dataframe thead th {\n",
       "        text-align: right;\n",
       "    }\n",
       "</style>\n",
       "<table border=\"1\" class=\"dataframe\">\n",
       "  <thead>\n",
       "    <tr style=\"text-align: right;\">\n",
       "      <th></th>\n",
       "      <th>sepal_length</th>\n",
       "      <th>sepal_width</th>\n",
       "      <th>petal_length</th>\n",
       "      <th>petal_width</th>\n",
       "    </tr>\n",
       "  </thead>\n",
       "  <tbody>\n",
       "    <tr>\n",
       "      <th>count</th>\n",
       "      <td>150.000000</td>\n",
       "      <td>150.000000</td>\n",
       "      <td>150.000000</td>\n",
       "      <td>150.000000</td>\n",
       "    </tr>\n",
       "    <tr>\n",
       "      <th>mean</th>\n",
       "      <td>5.843333</td>\n",
       "      <td>3.057333</td>\n",
       "      <td>3.758000</td>\n",
       "      <td>1.199333</td>\n",
       "    </tr>\n",
       "    <tr>\n",
       "      <th>std</th>\n",
       "      <td>0.828066</td>\n",
       "      <td>0.435866</td>\n",
       "      <td>1.765298</td>\n",
       "      <td>0.762238</td>\n",
       "    </tr>\n",
       "    <tr>\n",
       "      <th>min</th>\n",
       "      <td>4.300000</td>\n",
       "      <td>2.000000</td>\n",
       "      <td>1.000000</td>\n",
       "      <td>0.100000</td>\n",
       "    </tr>\n",
       "    <tr>\n",
       "      <th>25%</th>\n",
       "      <td>5.100000</td>\n",
       "      <td>2.800000</td>\n",
       "      <td>1.600000</td>\n",
       "      <td>0.300000</td>\n",
       "    </tr>\n",
       "    <tr>\n",
       "      <th>50%</th>\n",
       "      <td>5.800000</td>\n",
       "      <td>3.000000</td>\n",
       "      <td>4.350000</td>\n",
       "      <td>1.300000</td>\n",
       "    </tr>\n",
       "    <tr>\n",
       "      <th>75%</th>\n",
       "      <td>6.400000</td>\n",
       "      <td>3.300000</td>\n",
       "      <td>5.100000</td>\n",
       "      <td>1.800000</td>\n",
       "    </tr>\n",
       "    <tr>\n",
       "      <th>max</th>\n",
       "      <td>7.900000</td>\n",
       "      <td>4.400000</td>\n",
       "      <td>6.900000</td>\n",
       "      <td>2.500000</td>\n",
       "    </tr>\n",
       "  </tbody>\n",
       "</table>\n",
       "</div>"
      ],
      "text/plain": [
       "       sepal_length  sepal_width  petal_length  petal_width\n",
       "count    150.000000   150.000000    150.000000   150.000000\n",
       "mean       5.843333     3.057333      3.758000     1.199333\n",
       "std        0.828066     0.435866      1.765298     0.762238\n",
       "min        4.300000     2.000000      1.000000     0.100000\n",
       "25%        5.100000     2.800000      1.600000     0.300000\n",
       "50%        5.800000     3.000000      4.350000     1.300000\n",
       "75%        6.400000     3.300000      5.100000     1.800000\n",
       "max        7.900000     4.400000      6.900000     2.500000"
      ]
     },
     "execution_count": 7,
     "metadata": {},
     "output_type": "execute_result"
    }
   ],
   "source": [
    "iris.describe()"
   ]
  },
  {
   "cell_type": "markdown",
   "id": "d972288e",
   "metadata": {},
   "source": [
    "## 2.\tMean, Median, and Mode:\n",
    "Calculate the mean of the 'sepal_length'.\n",
    "Find the median of 'sepal_width'.\n",
    "Determine the mode of 'species'.\n"
   ]
  },
  {
   "cell_type": "code",
   "execution_count": 8,
   "id": "7e4f7b0a",
   "metadata": {},
   "outputs": [
    {
     "name": "stdout",
     "output_type": "stream",
     "text": [
      "Mean sepal length: 5.843333333333334\n",
      "Median sepal width: 3.0\n",
      "Mode of species: setosa\n"
     ]
    }
   ],
   "source": [
    "import pandas as pd\n",
    "import seaborn as sns\n",
    "\n",
    "# Load the Iris dataset\n",
    "iris = sns.load_dataset('iris')\n",
    "\n",
    "# Calculate the mean of 'sepal_length'\n",
    "sepal_length_mean = iris['sepal_length'].mean()\n",
    "\n",
    "# Find the median of 'sepal_width'\n",
    "sepal_width_median = iris['sepal_width'].median()\n",
    "\n",
    "# Determine the mode of 'species'\n",
    "species_mode = iris['species'].mode()[0]\n",
    "\n",
    "print(\"Mean sepal length:\", sepal_length_mean)\n",
    "print(\"Median sepal width:\", sepal_width_median)\n",
    "print(\"Mode of species:\", species_mode)\n"
   ]
  },
  {
   "cell_type": "markdown",
   "id": "c80128dc",
   "metadata": {},
   "source": [
    "## 3.\tVariance and Standard Deviation:\n",
    "Compute the variance of 'petal_length'.\n",
    "Calculate the standard deviation of 'petal_width'.\n"
   ]
  },
  {
   "cell_type": "code",
   "execution_count": 9,
   "id": "15b34b72",
   "metadata": {},
   "outputs": [
    {
     "name": "stdout",
     "output_type": "stream",
     "text": [
      "Variance of petal length: 3.1162778523489942\n",
      "Standard deviation of petal width: 0.7622376689603465\n"
     ]
    }
   ],
   "source": [
    "import pandas as pd\n",
    "import seaborn as sns\n",
    "\n",
    "# Load the Iris dataset\n",
    "iris = sns.load_dataset('iris')\n",
    "\n",
    "# Compute the variance of 'petal_length'\n",
    "petal_length_variance = iris['petal_length'].var()\n",
    "\n",
    "# Calculate the standard deviation of 'petal_width'\n",
    "petal_width_std_dev = iris['petal_width'].std()\n",
    "\n",
    "print(\"Variance of petal length:\", petal_length_variance)\n",
    "print(\"Standard deviation of petal width:\", petal_width_std_dev)\n"
   ]
  },
  {
   "cell_type": "markdown",
   "id": "b5104805",
   "metadata": {},
   "source": [
    "## 4.\tSkewness and Kurtosis:\n",
    "Find the skewness of the entire dataset.\n",
    "Determine the kurtosis of the 'sepal_length'.\n"
   ]
  },
  {
   "cell_type": "code",
   "execution_count": 10,
   "id": "98c1d2a5",
   "metadata": {},
   "outputs": [
    {
     "name": "stdout",
     "output_type": "stream",
     "text": [
      "Skewness of the entire dataset: 0.06400642348764463\n",
      "Kurtosis of sepal length: -0.5520640413156395\n"
     ]
    },
    {
     "name": "stderr",
     "output_type": "stream",
     "text": [
      "C:\\Users\\iwaye\\AppData\\Local\\Temp\\ipykernel_18184\\1436878422.py:8: FutureWarning: The default value of numeric_only in DataFrame.skew is deprecated. In a future version, it will default to False. In addition, specifying 'numeric_only=None' is deprecated. Select only valid columns or specify the value of numeric_only to silence this warning.\n",
      "  dataset_skewness = iris.skew().mean()\n"
     ]
    }
   ],
   "source": [
    "import pandas as pd\n",
    "import seaborn as sns\n",
    "\n",
    "# Load the Iris dataset\n",
    "iris = sns.load_dataset('iris')\n",
    "\n",
    "# Calculate skewness of the entire dataset\n",
    "dataset_skewness = iris.skew().mean()\n",
    "\n",
    "# Determine kurtosis of the 'sepal_length' column\n",
    "sepal_length_kurtosis = iris['sepal_length'].kurtosis()\n",
    "\n",
    "print(\"Skewness of the entire dataset:\", dataset_skewness)\n",
    "print(\"Kurtosis of sepal length:\", sepal_length_kurtosis)\n"
   ]
  },
  {
   "cell_type": "markdown",
   "id": "02da4f64",
   "metadata": {},
   "source": [
    "## 5.\tQuantiles:\n",
    "Calculate the 25th, 50th, and 75th percentiles of 'petal_length'.\n"
   ]
  },
  {
   "cell_type": "code",
   "execution_count": 11,
   "id": "520fa6fb",
   "metadata": {},
   "outputs": [
    {
     "name": "stdout",
     "output_type": "stream",
     "text": [
      "25th percentile (Q1): 1.6\n",
      "50th percentile (median, Q2): 4.35\n",
      "75th percentile (Q3): 5.1\n"
     ]
    }
   ],
   "source": [
    "import pandas as pd\n",
    "import seaborn as sns\n",
    "\n",
    "# Load the Iris dataset\n",
    "iris = sns.load_dataset('iris')\n",
    "\n",
    "# Calculate the 25th, 50th, and 75th percentiles of 'petal_length'\n",
    "petal_length_quantiles = iris['petal_length'].quantile([0.25, 0.5, 0.75])\n",
    "\n",
    "print(\"25th percentile (Q1):\", petal_length_quantiles[0.25])\n",
    "print(\"50th percentile (median, Q2):\", petal_length_quantiles[0.5])\n",
    "print(\"75th percentile (Q3):\", petal_length_quantiles[0.75])\n"
   ]
  },
  {
   "cell_type": "code",
   "execution_count": null,
   "id": "728af90e",
   "metadata": {},
   "outputs": [],
   "source": []
  }
 ],
 "metadata": {
  "kernelspec": {
   "display_name": "Python 3 (ipykernel)",
   "language": "python",
   "name": "python3"
  },
  "language_info": {
   "codemirror_mode": {
    "name": "ipython",
    "version": 3
   },
   "file_extension": ".py",
   "mimetype": "text/x-python",
   "name": "python",
   "nbconvert_exporter": "python",
   "pygments_lexer": "ipython3",
   "version": "3.11.4"
  }
 },
 "nbformat": 4,
 "nbformat_minor": 5
}
